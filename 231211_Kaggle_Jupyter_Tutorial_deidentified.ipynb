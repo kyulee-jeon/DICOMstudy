{
  "cells": [
    {
      "cell_type": "markdown",
      "metadata": {
        "id": "Lktt1JbUvqQd"
      },
      "source": [
        "# Kaggle\n",
        "- Kaggle 연결해서 Colab으로 데이터 다운로드하기\n",
        "- [구글 Colab에 Kaggle 데이터셋 가져오는 방법](https://gannigoing.medium.com/%EA%B5%AC%EA%B8%80-colab%EC%97%90-kaggle-%EB%8D%B0%EC%9D%B4%ED%84%B0%EC%85%8B-%EA%B0%80%EC%A0%B8%EC%98%A4%EB%8A%94-%EB%B0%A9%EB%B2%95-e962b4d687a5)"
      ]
    },
    {
      "cell_type": "markdown",
      "metadata": {
        "id": "SkQdmJUbEdle"
      },
      "source": [
        "1. Install"
      ]
    },
    {
      "cell_type": "code",
      "execution_count": null,
      "metadata": {
        "colab": {
          "base_uri": "https://localhost:8080/"
        },
        "id": "dCWQwEdvu0_d",
        "outputId": "938edfd0-2671-4806-f8f8-826b0482860f"
      },
      "outputs": [],
      "source": [
        "!pip install kaggle --upgrade"
      ]
    },
    {
      "cell_type": "markdown",
      "metadata": {
        "id": "ttwl0sXuEjJu"
      },
      "source": [
        "2. Kaggle - 본인 Account 페이지 - Create New API Token 클릭 후, 저장된 kaggle.json 파일을 코랩에 업로드"
      ]
    },
    {
      "cell_type": "code",
      "execution_count": null,
      "metadata": {
        "colab": {
          "base_uri": "https://localhost:8080/",
          "height": 93
        },
        "id": "MDLeYrI80ruz",
        "outputId": "e577b6db-3553-4b1c-c066-3c3180bb95ef"
      },
      "outputs": [],
      "source": [
        "from google.colab import files\n",
        "files.upload()"
      ]
    },
    {
      "cell_type": "markdown",
      "metadata": {
        "id": "uJW_a8B2EquT"
      },
      "source": [
        "3. kaggle.json 파일의 위치 변경"
      ]
    },
    {
      "cell_type": "code",
      "execution_count": null,
      "metadata": {
        "colab": {
          "base_uri": "https://localhost:8080/",
          "height": 35
        },
        "id": "79wT3FJbDPlf",
        "outputId": "e9304ccd-c9d1-4d66-f804-0824399cd986"
      },
      "outputs": [],
      "source": [
        "import os\n",
        "os.getcwd()"
      ]
    },
    {
      "cell_type": "code",
      "execution_count": 23,
      "metadata": {
        "colab": {
          "base_uri": "https://localhost:8080/"
        },
        "id": "TqUm4dH5DY0B",
        "outputId": "c9748187-999b-4051-c3ce-0a7211a306d2"
      },
      "outputs": [
        {
          "name": "stdout",
          "output_type": "stream",
          "text": [
            "/content/drive/MyDrive/Colab Notebooks/DICOM_characterization_pilot\n"
          ]
        }
      ],
      "source": [
        "cd /content/drive/MyDrive/Colab Notebooks/DICOM_characterization_pilot/"
      ]
    },
    {
      "cell_type": "code",
      "execution_count": null,
      "metadata": {
        "id": "kTT-KuD-C2Pd"
      },
      "outputs": [],
      "source": [
        "!mkdir -p ~/.kaggle # directory 생성"
      ]
    },
    {
      "cell_type": "code",
      "execution_count": null,
      "metadata": {
        "id": "zfB1FhnlC2YO"
      },
      "outputs": [],
      "source": [
        "!cp kaggle.json ~/.kaggle/ # cp file1 file2: file1 파일을 똑같이 복사하여 file2를 생성한다"
      ]
    },
    {
      "cell_type": "code",
      "execution_count": null,
      "metadata": {
        "id": "0CcKaC9yvOU8"
      },
      "outputs": [],
      "source": [
        "!chmod 600 ~/.kaggle/kaggle.json"
      ]
    },
    {
      "cell_type": "markdown",
      "metadata": {
        "id": "kovDw2O-EyO5"
      },
      "source": [
        "4. 잘 저장되었는지 확인\n",
        "- kaggle.json 파일명 나오면 여기까지 성공"
      ]
    },
    {
      "cell_type": "code",
      "execution_count": null,
      "metadata": {
        "colab": {
          "base_uri": "https://localhost:8080/"
        },
        "id": "GYx_6LMrvOXL",
        "outputId": "5693384f-dc0f-4706-e20a-e10230d20cd9"
      },
      "outputs": [
        {
          "name": "stdout",
          "output_type": "stream",
          "text": [
            "kaggle.json\n"
          ]
        }
      ],
      "source": [
        "!ls -1ha kaggle.json"
      ]
    },
    {
      "cell_type": "markdown",
      "metadata": {},
      "source": [
        "5. Kaggle API command를 이용하여 데이터셋 다운로드\n",
        "- competitions\n",
        "- datasets"
      ]
    },
    {
      "cell_type": "code",
      "execution_count": null,
      "metadata": {
        "colab": {
          "base_uri": "https://localhost:8080/"
        },
        "id": "qP7brh5B6FFL",
        "outputId": "5d7b0726-4a84-4d75-d7f9-671a38477e6b"
      },
      "outputs": [
        {
          "name": "stdout",
          "output_type": "stream",
          "text": [
            "Downloading rsna-miccai-brain-tumor-radiogenomic-classification.zip to /content/drive/MyDrive/Colab Notebooks/DICOM_characterization_pilot\n",
            "100% 12.3G/12.3G [10:09<00:00, 14.7MB/s]\n",
            "100% 12.3G/12.3G [10:09<00:00, 21.7MB/s]\n"
          ]
        }
      ],
      "source": [
        "# 231205 : https://www.kaggle.com/competitions/rsna-miccai-brain-tumor-radiogenomic-classification/rules\n",
        "#!kaggle competitions download -c rsna-miccai-brain-tumor-radiogenomic-classification"
      ]
    },
    {
      "cell_type": "code",
      "execution_count": null,
      "metadata": {
        "colab": {
          "base_uri": "https://localhost:8080/"
        },
        "id": "4SkBXwz4Gq9E",
        "outputId": "e7794eb4-76dc-4d23-c675-b3a6ed04ab6e"
      },
      "outputs": [
        {
          "name": "stdout",
          "output_type": "stream",
          "text": [
            "Downloading nodules-in-chest-xrays-lidcidri.zip to /content/drive/MyDrive/Colab Notebooks/DICOM_characterization_pilot\n",
            "100% 2.49G/2.50G [00:38<00:00, 50.3MB/s]\n",
            "100% 2.50G/2.50G [00:38<00:00, 70.3MB/s]\n"
          ]
        }
      ],
      "source": [
        "# 231211 : https://www.kaggle.com/datasets/raddar/nodules-in-chest-xrays-lidcidri\n",
        "!kaggle datasets download -d raddar/nodules-in-chest-xrays-lidcidri"
      ]
    },
    {
      "cell_type": "markdown",
      "metadata": {
        "id": "vy-0PfA6Hup1"
      },
      "source": [
        "6. 잘 저장되었는지 확인 후 필요하다면 unzip"
      ]
    },
    {
      "cell_type": "code",
      "execution_count": null,
      "metadata": {
        "colab": {
          "base_uri": "https://localhost:8080/"
        },
        "id": "1-c6l0kIE5D5",
        "outputId": "cd8f4d73-0960-4998-b985-c1e54e72b5d3"
      },
      "outputs": [
        {
          "name": "stdout",
          "output_type": "stream",
          "text": [
            " kaggle.json\t\t\t\t sample_submission.csv\n",
            "'Kaggle-Jupyter Tutorial_231205.ipynb'\t XNAT-JupyterTutorial_231115.ipynb\n",
            " nodules-in-chest-xrays-lidcidri.zip\n"
          ]
        }
      ],
      "source": [
        "!ls"
      ]
    },
    {
      "cell_type": "code",
      "execution_count": null,
      "metadata": {
        "id": "w60J7CLTGOpn"
      },
      "outputs": [],
      "source": [
        "#!unzip rsna-miccai-brain-tumor-radiogenomic-classification.zip # 적당히 하다가 스토리지 문제로 끊음\n",
        "!unzip nodules-in-chest-xrays-lidcidri.zip # 2.5GB"
      ]
    },
    {
      "cell_type": "markdown",
      "metadata": {
        "id": "DeCqjihNM56c"
      },
      "source": [
        "# DICOM C-STORE (23.12.11)\n",
        "- Any DICOM C-STORE SCU, including scanner consoles or DICOM applications like OsiriX or DicomBrowser, can send files directly to this server.\n",
        "- DICOM C-STORE receiver (SCP) Specifications\n",
        "  - ID:\n",
        "  - AE Title: -\n",
        "  - Port: -\n",
        "- 시도했으나, unable to connect to remote로 실패함"
      ]
    },
    {
      "cell_type": "code",
      "execution_count": 30,
      "metadata": {
        "colab": {
          "base_uri": "https://localhost:8080/"
        },
        "id": "UEzZXN4gQWgs",
        "outputId": "23ab8e5a-7a6e-4b15-a490-f5895996b224"
      },
      "outputs": [
        {
          "name": "stdout",
          "output_type": "stream",
          "text": [
            "LIDC-IDRI-0001-000001.dcm LIDC-IDRI-0291-000001.dcm\n",
            "463\n"
          ]
        }
      ],
      "source": [
        "# fname to list\n",
        "image_folder = '/content/drive/MyDrive/Colab Notebooks/DICOM_characterization_pilot/images/images/'\n",
        "image_data = os.listdir(image_folder)\n",
        "image_data.sort()\n",
        "\n",
        "print(image_data[0], image_data[-1])\n",
        "print(len(image_data)) # 463"
      ]
    },
    {
      "cell_type": "code",
      "execution_count": 17,
      "metadata": {
        "colab": {
          "base_uri": "https://localhost:8080/"
        },
        "id": "gKSkAy9XNIiF",
        "outputId": "d5c2ecd4-60db-4c51-a394-1ddbdf891022"
      },
      "outputs": [
        {
          "name": "stdout",
          "output_type": "stream",
          "text": [
            "Collecting pynetdicom\n",
            "  Downloading pynetdicom-2.0.2-py3-none-any.whl (1.6 MB)\n",
            "\u001b[2K     \u001b[90m━━━━━━━━━━━━━━━━━━━━━━━━━━━━━━━━━━━━━━━━\u001b[0m \u001b[32m1.6/1.6 MB\u001b[0m \u001b[31m15.0 MB/s\u001b[0m eta \u001b[36m0:00:00\u001b[0m\n",
            "\u001b[?25hCollecting pydicom>=2.2.0 (from pynetdicom)\n",
            "  Downloading pydicom-2.4.3-py3-none-any.whl (1.8 MB)\n",
            "\u001b[2K     \u001b[90m━━━━━━━━━━━━━━━━━━━━━━━━━━━━━━━━━━━━━━━━\u001b[0m \u001b[32m1.8/1.8 MB\u001b[0m \u001b[31m41.8 MB/s\u001b[0m eta \u001b[36m0:00:00\u001b[0m\n",
            "\u001b[?25hInstalling collected packages: pydicom, pynetdicom\n",
            "Successfully installed pydicom-2.4.3 pynetdicom-2.0.2\n"
          ]
        }
      ],
      "source": [
        "!pip install -U pynetdicom"
      ]
    },
    {
      "cell_type": "code",
      "execution_count": 18,
      "metadata": {
        "id": "DneLF-b-NX3G"
      },
      "outputs": [],
      "source": [
        "from pydicom import dcmread\n",
        "\n",
        "from pynetdicom import AE, debug_logger # associate with a peer DICOM Application Entity\n",
        "from pynetdicom.sop_class import CTImageStorage # request the transfer of a single CT datasets"
      ]
    },
    {
      "cell_type": "code",
      "execution_count": 19,
      "metadata": {
        "id": "ZCVQs-oYOGjG"
      },
      "outputs": [],
      "source": [
        "debug_logger()"
      ]
    },
    {
      "cell_type": "code",
      "execution_count": 35,
      "metadata": {
        "id": "jpeuAZDTOJO8"
      },
      "outputs": [],
      "source": [
        "# Initialise the Application Entity\n",
        "ae = AE()"
      ]
    },
    {
      "cell_type": "code",
      "execution_count": 36,
      "metadata": {
        "id": "54JGg2llOOQE"
      },
      "outputs": [],
      "source": [
        "# Add a requested presentation context\n",
        "ae.add_requested_context(CTImageStorage)"
      ]
    },
    {
      "cell_type": "code",
      "execution_count": 32,
      "metadata": {
        "id": "eRIOxprUSHgm"
      },
      "outputs": [],
      "source": [
        "from tqdm import tqdm\n",
        "import time"
      ]
    },
    {
      "cell_type": "code",
      "execution_count": null,
      "metadata": {
        "colab": {
          "base_uri": "https://localhost:8080/",
          "height": 633
        },
        "id": "kVQ_A8hFOUGU",
        "outputId": "9adf32ff-375f-48f6-a572-740633f01944"
      },
      "outputs": [],
      "source": [
        "# Read in our DICOM CT datasets\n",
        "\n",
        "ip = \n",
        "port = \n",
        "\n",
        "for i in tqdm(range(len(image_data))):\n",
        "  ds = dcmread(image_folder+image_data[i])\n",
        "  # Associate with AE at IP and port\n",
        "  assoc = ae.associate(ip, port)\n",
        "  if assoc.is_established:\n",
        "      # Use the C-STORE service to send the dataset\n",
        "      # returns the response status as a pydicom Dataset\n",
        "      status = assoc.send_c_store(ds)\n",
        "\n",
        "      # Check the status of the storage request\n",
        "      if status:\n",
        "          # If the storage request succeeded this will be 0x0000\n",
        "          print('C-STORE request status: 0x{0:04x}'.format(status.Status))\n",
        "      else:\n",
        "          print('Connection timed out, was aborted or received invalid response')\n",
        "\n",
        "      # Release the association\n",
        "      assoc.release()\n",
        "  else:\n",
        "      print('Association rejected, aborted or never connected')"
      ]
    }
  ],
  "metadata": {
    "colab": {
      "provenance": []
    },
    "kernelspec": {
      "display_name": "Python 3",
      "name": "python3"
    },
    "language_info": {
      "name": "python"
    }
  },
  "nbformat": 4,
  "nbformat_minor": 0
}
