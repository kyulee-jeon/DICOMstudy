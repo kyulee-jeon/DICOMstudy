{
 "cells": [
  {
   "cell_type": "markdown",
   "id": "c4595bad-659d-407d-b4b9-83b0573eef30",
   "metadata": {},
   "source": [
    "# DICOM Standard Part 6\n",
    "Explore [DICOM_harvest_xml.ipynb](https://github.com/paulnagy/DICOM2OMOP/blob/main/DICOM_harvest_xml.ipynb) from DICOM2OMOP, December 13, 2023\n",
    "- DICOM Part 6: Data Dictionary\n",
    "- Chapter 6. Registry of DICOM Data Elements\n",
    "- [xml.etree.elementtree](https://docs.python.org/ko/3/library/xml.etree.elementtree.html)\n",
    "- [requests](https://light-tree.tistory.com/6)"
   ]
  },
  {
   "cell_type": "code",
   "execution_count": 3,
   "id": "0e6dbf7d-d267-4646-b830-24151b9ff797",
   "metadata": {},
   "outputs": [],
   "source": [
    "# Import modules\n",
    "import requests # HTTP를 사용하기 위함\n",
    "import xml.etree.ElementTree as ET # python 2.5x 버전부터 내부 라이브러리로 포함되어 따로 설치하지 않아도 됨"
   ]
  },
  {
   "cell_type": "code",
   "execution_count": 4,
   "id": "2dad72ec-9e67-4243-957a-a8b84c7c4287",
   "metadata": {},
   "outputs": [],
   "source": [
    "# URI for DICOM Part 6: Data Dictionary\n",
    "xml_uri = 'https://dicom.nema.org/medical/dicom/current/source/docbook/part06/part06.xml' #HTTPS\n",
    "\n",
    "# Parse the XML content\n",
    "response = requests.get(xml_uri) # GET 방식\n",
    "root = ET.fromstring(response.content) # attrib "
   ]
  },
  {
   "cell_type": "markdown",
   "id": "aa714df5-562f-40f8-9e7b-07eddb6306bc",
   "metadata": {},
   "source": [
    "#### pause\n",
    "- `root = ET.fromstring()`\n",
    "- `ET.fromstring()`은 문자열에서 `Element`로 직접 XML 구문을 분석하고, 구문 분석된 tree의 `root` (`Element`) "
   ]
  },
  {
   "cell_type": "code",
   "execution_count": 8,
   "id": "49f51b0b-68a3-4482-8f27-e5bd80bcf3b6",
   "metadata": {},
   "outputs": [
    {
     "data": {
      "text/plain": [
       "'{http://docbook.org/ns/docbook}book'"
      ]
     },
     "execution_count": 8,
     "metadata": {},
     "output_type": "execute_result"
    }
   ],
   "source": [
    "# (tag) a string identifying what kind of data this element represents\n",
    "root.tag"
   ]
  },
  {
   "cell_type": "code",
   "execution_count": 9,
   "id": "c2caa64c-499c-46a0-a7b9-ae4aa080d62a",
   "metadata": {},
   "outputs": [
    {
     "data": {
      "text/plain": [
       "{'label': 'PS3.6',\n",
       " 'version': '5.0',\n",
       " '{http://www.w3.org/XML/1998/namespace}id': 'PS3.6'}"
      ]
     },
     "execution_count": 9,
     "metadata": {},
     "output_type": "execute_result"
    }
   ],
   "source": [
    "# (attrib) a dictionary containing the element's attributes\n",
    "root.attrib"
   ]
  },
  {
   "cell_type": "markdown",
   "id": "29709d22-57a2-4eb2-aa1d-6ff682712d49",
   "metadata": {},
   "source": [
    "iterate 할 수 있는 child node 확인\n",
    "- child는 중첩되며, index로 특정 child node에 액세스 가능"
   ]
  },
  {
   "cell_type": "code",
   "execution_count": 17,
   "id": "c8df098d-12fa-473b-ab0c-7265f1a0a1e8",
   "metadata": {},
   "outputs": [
    {
     "name": "stdout",
     "output_type": "stream",
     "text": [
      "{http://docbook.org/ns/docbook}title {}\n",
      "{http://docbook.org/ns/docbook}subtitle {}\n",
      "{http://docbook.org/ns/docbook}info {}\n",
      "{http://docbook.org/ns/docbook}chapter {'label': '', 'status': '1', '{http://www.w3.org/XML/1998/namespace}id': 'chapter_Notice'}\n",
      "{http://docbook.org/ns/docbook}chapter {'label': '', 'status': '1', '{http://www.w3.org/XML/1998/namespace}id': 'chapter_Foreword'}\n",
      "{http://docbook.org/ns/docbook}chapter {'label': '1', 'status': '1', '{http://www.w3.org/XML/1998/namespace}id': 'chapter_1'}\n",
      "{http://docbook.org/ns/docbook}chapter {'label': '2', 'status': '1', '{http://www.w3.org/XML/1998/namespace}id': 'chapter_2'}\n",
      "{http://docbook.org/ns/docbook}chapter {'label': '3', 'status': '1', '{http://www.w3.org/XML/1998/namespace}id': 'chapter_3'}\n",
      "{http://docbook.org/ns/docbook}chapter {'label': '4', 'status': '1', '{http://www.w3.org/XML/1998/namespace}id': 'chapter_4'}\n",
      "{http://docbook.org/ns/docbook}chapter {'label': '5', 'status': '1', '{http://www.w3.org/XML/1998/namespace}id': 'chapter_5'}\n",
      "{http://docbook.org/ns/docbook}chapter {'label': '6', 'status': '1', '{http://www.w3.org/XML/1998/namespace}id': 'chapter_6'}\n",
      "{http://docbook.org/ns/docbook}chapter {'label': '7', 'status': '1', '{http://www.w3.org/XML/1998/namespace}id': 'chapter_7'}\n",
      "{http://docbook.org/ns/docbook}chapter {'label': '8', 'status': '1', '{http://www.w3.org/XML/1998/namespace}id': 'chapter_8'}\n",
      "{http://docbook.org/ns/docbook}chapter {'label': '9', 'status': '1', '{http://www.w3.org/XML/1998/namespace}id': 'chapter_9'}\n",
      "{http://docbook.org/ns/docbook}chapter {'label': 'A', 'status': '1', '{http://www.w3.org/XML/1998/namespace}id': 'chapter_A'}\n",
      "{http://docbook.org/ns/docbook}chapter {'label': 'B', 'status': '1', '{http://www.w3.org/XML/1998/namespace}id': 'chapter_B'}\n"
     ]
    }
   ],
   "source": [
    "for child in root:\n",
    "    print(child.tag, child.attrib)"
   ]
  },
  {
   "cell_type": "markdown",
   "id": "ba36aa90-529b-48c7-bc55-8bdb19db6bf0",
   "metadata": {},
   "source": [
    "#### continue"
   ]
  },
  {
   "cell_type": "code",
   "execution_count": 5,
   "id": "30f89d5b-f2b9-41c3-8c98-b9c8e5b854e9",
   "metadata": {},
   "outputs": [],
   "source": [
    "# Find the child node with label=\"6\" for 'chapter 6. Registry of DICOM Data Elements'\n",
    "for child in root:\n",
    "    if child.attrib.get('label') == '6':\n",
    "        selected_node = child\n",
    "        break"
   ]
  },
  {
   "cell_type": "markdown",
   "id": "6e3e56ce-99ca-478d-99c5-007502dfe4c4",
   "metadata": {},
   "source": [
    "---"
   ]
  },
  {
   "cell_type": "code",
   "execution_count": 40,
   "id": "958449e2-7f09-4961-8061-89a2a69b011f",
   "metadata": {},
   "outputs": [],
   "source": [
    "import pandas as pd\n",
    "import numpy as np\n",
    "from collections import defaultdict\n",
    "import re"
   ]
  },
  {
   "cell_type": "markdown",
   "id": "c33e0335-963b-488d-a154-53eea9ed0fd1",
   "metadata": {},
   "source": [
    "### Get table 1 from Chapter 6\n",
    "- Table 6-1. Registry of DICOM Data Elements\n",
    "- [참고: HTML/ table, thead, tbody, tfoot, th, tr, td/ 표만들기](https://www.codingfactory.net/10232)"
   ]
  },
  {
   "cell_type": "code",
   "execution_count": 61,
   "id": "82d5622d-dd75-4b6d-a05d-ac550f1a25cc",
   "metadata": {},
   "outputs": [],
   "source": [
    "# findall이 아니라 find를 사용한 이유; 첫번째 Table, 즉 Table 1만 찾을거여서\n",
    "grandchild_table = selected_node.find('.//{http://docbook.org/ns/docbook}table')"
   ]
  },
  {
   "cell_type": "code",
   "execution_count": 200,
   "id": "ed285ebe-7a4b-4b8a-a7bd-868cc78b900a",
   "metadata": {},
   "outputs": [
    {
     "data": {
      "text/plain": [
       "{'frame': 'box',\n",
       " 'label': '6-1',\n",
       " 'rules': 'all',\n",
       " '{http://www.w3.org/XML/1998/namespace}id': 'table_6-1'}"
      ]
     },
     "execution_count": 200,
     "metadata": {},
     "output_type": "execute_result"
    }
   ],
   "source": [
    "grandchild_table.attrib # Table 6-1. "
   ]
  },
  {
   "cell_type": "markdown",
   "id": "286eada7-9249-4af5-89b5-f06523b9da5c",
   "metadata": {},
   "source": [
    "-  'xml.etree.ElementTree.Element' object "
   ]
  },
  {
   "cell_type": "code",
   "execution_count": 92,
   "id": "114d5f9d-56e5-4f9c-805b-cbe085d6ba18",
   "metadata": {},
   "outputs": [
    {
     "data": {
      "text/plain": [
       "[<Element '{http://docbook.org/ns/docbook}caption' at 0x7f2fc820fa10>,\n",
       " <Element '{http://docbook.org/ns/docbook}thead' at 0x7f2fc820fb00>,\n",
       " <Element '{http://docbook.org/ns/docbook}tr' at 0x7f2fc820fbf0>]"
      ]
     },
     "execution_count": 92,
     "metadata": {},
     "output_type": "execute_result"
    }
   ],
   "source": [
    "elements = grandchild_table.findall('.//{http://docbook.org/ns/docbook}*')\n",
    "elements[:3] #  'xml.etree.ElementTree.Element' object"
   ]
  },
  {
   "cell_type": "code",
   "execution_count": 99,
   "id": "7f386c55-f67e-4bf8-9ef1-878b4631447f",
   "metadata": {},
   "outputs": [
    {
     "data": {
      "text/plain": [
       "'{http://docbook.org/ns/docbook}caption'"
      ]
     },
     "execution_count": 99,
     "metadata": {},
     "output_type": "execute_result"
    }
   ],
   "source": [
    "elements[0].tag"
   ]
  },
  {
   "cell_type": "code",
   "execution_count": 100,
   "id": "8a71a840-4f3f-44fa-8be2-6511dce15ef7",
   "metadata": {},
   "outputs": [
    {
     "name": "stdout",
     "output_type": "stream",
     "text": [
      "{http://docbook.org/ns/docbook}caption\n",
      "{http://docbook.org/ns/docbook}thead\n",
      "{http://docbook.org/ns/docbook}tr\n",
      "{http://docbook.org/ns/docbook}th\n",
      "{http://docbook.org/ns/docbook}para\n",
      "{http://docbook.org/ns/docbook}emphasis\n",
      "{http://docbook.org/ns/docbook}th\n",
      "{http://docbook.org/ns/docbook}para\n",
      "{http://docbook.org/ns/docbook}emphasis\n",
      "{http://docbook.org/ns/docbook}th\n",
      "{http://docbook.org/ns/docbook}para\n"
     ]
    }
   ],
   "source": [
    "for i, elem in enumerate(elements):\n",
    "    print(elem.tag)\n",
    "    if i == 10:\n",
    "        break"
   ]
  },
  {
   "cell_type": "code",
   "execution_count": 106,
   "id": "d6f5258b-42df-43e1-a371-4a0570867de8",
   "metadata": {
    "scrolled": true
   },
   "outputs": [
    {
     "name": "stdout",
     "output_type": "stream",
     "text": [
      "['tr', 'caption', 'thead', 'xref', 'td', 'th', 'tbody', 'para', 'emphasis']\n"
     ]
    }
   ],
   "source": [
    "# URL 네임스페이스를 없애고 값만 추출\n",
    "tag_set = {re.sub(r'\\{.*?\\}', '', element.tag) for element in elements}\n",
    "tag_list = list(tag_set)\n",
    "print(tag_list)"
   ]
  },
  {
   "cell_type": "code",
   "execution_count": 108,
   "id": "878d00de-397f-4b9e-acb2-f3a528532883",
   "metadata": {},
   "outputs": [
    {
     "data": {
      "text/plain": [
       "{0: 'tr',\n",
       " 1: 'caption',\n",
       " 2: 'thead',\n",
       " 3: 'xref',\n",
       " 4: 'td',\n",
       " 5: 'th',\n",
       " 6: 'tbody',\n",
       " 7: 'para',\n",
       " 8: 'emphasis'}"
      ]
     },
     "execution_count": 108,
     "metadata": {},
     "output_type": "execute_result"
    }
   ],
   "source": [
    "tag_order = list(range(len(tag_list)))\n",
    "tag_dict = dict(zip(tag_order, tag_list))\n",
    "tag_dict"
   ]
  },
  {
   "cell_type": "code",
   "execution_count": 118,
   "id": "bb746a35-1506-4e72-81e6-0e3fdbff26a2",
   "metadata": {},
   "outputs": [],
   "source": [
    "tag_url = './/{http://docbook.org/ns/docbook}'\n",
    "# table1의 (1st) tag - use .text for checking a(find) text\n",
    "title = grandchild_table.find(tag_url + 'caption') # title ('Registry of DICOM Data Elements')\n",
    "thead = grandchild_table.find(tag_url + 'thead') # groups the header content in the table\n",
    "tbody = grandchild_table.find(tag_url + 'tbody') # groups the body content in the table"
   ]
  },
  {
   "cell_type": "code",
   "execution_count": 143,
   "id": "c31ab3f2-851c-498a-9c94-06f2af052a9b",
   "metadata": {
    "scrolled": true
   },
   "outputs": [
    {
     "name": "stdout",
     "output_type": "stream",
     "text": [
      "Registry of DICOM Data Elements\n"
     ]
    }
   ],
   "source": [
    "# check all(findall) the contents\n",
    "for i in grandchild_table.findall(tag_url + tag_dict[1]):\n",
    "    print(i.text)"
   ]
  },
  {
   "cell_type": "code",
   "execution_count": 120,
   "id": "5d2c0e5e-589e-4b14-b651-2ab7012e48cd",
   "metadata": {},
   "outputs": [
    {
     "name": "stdout",
     "output_type": "stream",
     "text": [
      "<Element '{http://docbook.org/ns/docbook}tr' at 0x7f2fc820fbf0>\n",
      "[<Element '{http://docbook.org/ns/docbook}emphasis' at 0x7f2fc820fe70>, <Element '{http://docbook.org/ns/docbook}emphasis' at 0x7f2fc8218130>, <Element '{http://docbook.org/ns/docbook}emphasis' at 0x7f2fc82183b0>, <Element '{http://docbook.org/ns/docbook}emphasis' at 0x7f2fc8218630>, <Element '{http://docbook.org/ns/docbook}emphasis' at 0x7f2fc82188b0>]\n"
     ]
    }
   ],
   "source": [
    "for tr in thead.findall(tag_url+'tr'):\n",
    "    print(tr)\n",
    "    thead_names = tr.findall(tag_url + 'emphasis')\n",
    "    print(thead_names)"
   ]
  },
  {
   "cell_type": "code",
   "execution_count": 124,
   "id": "6f0a0d92-b742-4809-82a5-683f0528e527",
   "metadata": {},
   "outputs": [
    {
     "name": "stdout",
     "output_type": "stream",
     "text": [
      "element:  <Element '{http://docbook.org/ns/docbook}emphasis' at 0x7f2fc820fe70>\n",
      "text:  Tag\n",
      "\n",
      "\n",
      "element:  <Element '{http://docbook.org/ns/docbook}emphasis' at 0x7f2fc8218130>\n",
      "text:  Name\n",
      "\n",
      "\n",
      "element:  <Element '{http://docbook.org/ns/docbook}emphasis' at 0x7f2fc82183b0>\n",
      "text:  Keyword\n",
      "\n",
      "\n",
      "element:  <Element '{http://docbook.org/ns/docbook}emphasis' at 0x7f2fc8218630>\n",
      "text:  VR\n",
      "\n",
      "\n",
      "element:  <Element '{http://docbook.org/ns/docbook}emphasis' at 0x7f2fc82188b0>\n",
      "text:  VM\n",
      "\n",
      "\n"
     ]
    }
   ],
   "source": [
    "for name in thead_names:\n",
    "    print('element: ', name)\n",
    "    print('text: ', name.text)\n",
    "    print('\\n')"
   ]
  },
  {
   "cell_type": "markdown",
   "id": "7767afc9-488a-46c5-8626-ce00e2e494ff",
   "metadata": {},
   "source": [
    "- store column names"
   ]
  },
  {
   "cell_type": "code",
   "execution_count": 147,
   "id": "9cfe7c48-8177-4f20-b802-ec6f0ea44269",
   "metadata": {},
   "outputs": [
    {
     "name": "stdout",
     "output_type": "stream",
     "text": [
      "['Tag', 'Name', 'Keyword', 'VR', 'VM']\n"
     ]
    }
   ],
   "source": [
    "column_names = []\n",
    "for name in thead_names:\n",
    "    column_names.append(name.text.strip())\n",
    "print(column_names)"
   ]
  },
  {
   "cell_type": "markdown",
   "id": "a89091dd-0568-409f-a312-a6c8afe1e7c4",
   "metadata": {},
   "source": [
    "- store row values"
   ]
  },
  {
   "cell_type": "code",
   "execution_count": 169,
   "id": "a2491d0b-0f6f-4908-8f8e-a7234f7fbd57",
   "metadata": {},
   "outputs": [],
   "source": [
    "rows = tbody.findall(tag_url+'tr')\n",
    "rows_data = []"
   ]
  },
  {
   "cell_type": "code",
   "execution_count": 174,
   "id": "33333dd1-90b5-4d69-b3f8-2f2d696f21ba",
   "metadata": {},
   "outputs": [],
   "source": [
    "para = rows[0].findall(tag_url+'para')\n",
    "emphasis = para[0].find(tag_url+'emphasis')"
   ]
  },
  {
   "cell_type": "code",
   "execution_count": 176,
   "id": "2ff88bcb-ff55-471b-b5bd-dc2a1152c5ab",
   "metadata": {},
   "outputs": [
    {
     "data": {
      "text/plain": [
       "'(0008,0001)'"
      ]
     },
     "execution_count": 176,
     "metadata": {},
     "output_type": "execute_result"
    }
   ],
   "source": [
    "emphasis.text"
   ]
  },
  {
   "cell_type": "code",
   "execution_count": 177,
   "id": "b3955d6a-633a-4c63-b61d-53c3906555f9",
   "metadata": {},
   "outputs": [
    {
     "data": {
      "text/plain": [
       "'(0008,0001)'"
      ]
     },
     "execution_count": 177,
     "metadata": {},
     "output_type": "execute_result"
    }
   ],
   "source": [
    "emphasis.text.strip()"
   ]
  },
  {
   "cell_type": "code",
   "execution_count": 183,
   "id": "2dc887e6-9d13-46b3-9364-6f5f90989702",
   "metadata": {},
   "outputs": [],
   "source": [
    "# Get table 1 from Chapter 6\n",
    "if selected_node is not None:\n",
    "    grandchild_table = selected_node.find('.//{http://docbook.org/ns/docbook}table')\n",
    "    if grandchild_table is not None:\n",
    "        thead = grandchild_table.find('.//{http://docbook.org/ns/docbook}thead')\n",
    "        tbody = grandchild_table.find('.//{http://docbook.org/ns/docbook}tbody')\n",
    "\n",
    "        # Store column names\n",
    "        column_names = []\n",
    "        if thead is not None:\n",
    "            for tr in thead.findall('.//{http://docbook.org/ns/docbook}tr'):\n",
    "                thead_names = tr.findall('.//{http://docbook.org/ns/docbook}emphasis')\n",
    "                if thead_names is not None:\n",
    "                    for name in thead_names:\n",
    "                        column_names.append(name.text.strip())\n",
    "\n",
    "            # Store row values\n",
    "            rows = tbody.findall('.//{http://docbook.org/ns/docbook}tr')\n",
    "            rows_data = []\n",
    "\n",
    "            # Loop through tbody to extract values\n",
    "            for tr in rows:\n",
    "                row_values = defaultdict(lambda: None)\n",
    "                idx = 0\n",
    "                for para in tr.findall('.//{http://docbook.org/ns/docbook}para'):\n",
    "                    emphasis = para.find('.//{http://docbook.org/ns/docbook}emphasis')\n",
    "                    if emphasis is not None and emphasis.text is not None:\n",
    "                        row_values[column_names[idx]] = emphasis.text.strip()\n",
    "                        idx += 1\n",
    "                        if idx >= len(column_names):\n",
    "                            break\n",
    "                    else:\n",
    "                        if para is not None and para.text is not None:\n",
    "                            row_values[column_names[idx]] = para.text.strip()\n",
    "                            idx += 1\n",
    "                            if idx >= len(column_names):\n",
    "                                break\n",
    "\n",
    "                # Append to the table only if it has more than 3 values\n",
    "                if sum(1 for value in row_values.values() if value is not None) > 3:\n",
    "                    rows_data.append(row_values)\n",
    "\n",
    "            # Save the output as a DataFrame\n",
    "            df = pd.DataFrame(rows_data, columns=column_names)\n",
    "else:\n",
    "    print(\"Node with label='6' not found.\")"
   ]
  },
  {
   "cell_type": "code",
   "execution_count": 184,
   "id": "fd67dd50-1e32-4593-a285-ffab1f399893",
   "metadata": {},
   "outputs": [
    {
     "data": {
      "text/plain": [
       "['Tag', 'Name', 'Keyword', 'VR', 'VM']"
      ]
     },
     "execution_count": 184,
     "metadata": {},
     "output_type": "execute_result"
    }
   ],
   "source": [
    "column_names"
   ]
  },
  {
   "cell_type": "code",
   "execution_count": 185,
   "id": "e04fa23d-e2d5-44d8-babc-ac2e991dd77c",
   "metadata": {},
   "outputs": [
    {
     "data": {
      "text/html": [
       "<div>\n",
       "<style scoped>\n",
       "    .dataframe tbody tr th:only-of-type {\n",
       "        vertical-align: middle;\n",
       "    }\n",
       "\n",
       "    .dataframe tbody tr th {\n",
       "        vertical-align: top;\n",
       "    }\n",
       "\n",
       "    .dataframe thead th {\n",
       "        text-align: right;\n",
       "    }\n",
       "</style>\n",
       "<table border=\"1\" class=\"dataframe\">\n",
       "  <thead>\n",
       "    <tr style=\"text-align: right;\">\n",
       "      <th></th>\n",
       "      <th>Tag</th>\n",
       "      <th>Name</th>\n",
       "      <th>Keyword</th>\n",
       "      <th>VR</th>\n",
       "      <th>VM</th>\n",
       "    </tr>\n",
       "  </thead>\n",
       "  <tbody>\n",
       "    <tr>\n",
       "      <th>0</th>\n",
       "      <td>(0008,0001)</td>\n",
       "      <td>Length to End</td>\n",
       "      <td>Length​To​End</td>\n",
       "      <td>UL</td>\n",
       "      <td>1</td>\n",
       "    </tr>\n",
       "    <tr>\n",
       "      <th>1</th>\n",
       "      <td>(0008,0005)</td>\n",
       "      <td>Specific Character Set</td>\n",
       "      <td>Specific​Character​Set</td>\n",
       "      <td>CS</td>\n",
       "      <td>1-n</td>\n",
       "    </tr>\n",
       "    <tr>\n",
       "      <th>2</th>\n",
       "      <td>(0008,0006)</td>\n",
       "      <td>Language Code Sequence</td>\n",
       "      <td>Language​Code​Sequence</td>\n",
       "      <td>SQ</td>\n",
       "      <td>1</td>\n",
       "    </tr>\n",
       "    <tr>\n",
       "      <th>3</th>\n",
       "      <td>(0008,0008)</td>\n",
       "      <td>Image Type</td>\n",
       "      <td>Image​Type</td>\n",
       "      <td>CS</td>\n",
       "      <td>2-n</td>\n",
       "    </tr>\n",
       "    <tr>\n",
       "      <th>4</th>\n",
       "      <td>(0008,0010)</td>\n",
       "      <td>Recognition Code</td>\n",
       "      <td>Recognition​Code</td>\n",
       "      <td>SH</td>\n",
       "      <td>1</td>\n",
       "    </tr>\n",
       "    <tr>\n",
       "      <th>5</th>\n",
       "      <td>(0008,0012)</td>\n",
       "      <td>Instance Creation Date</td>\n",
       "      <td>Instance​Creation​Date</td>\n",
       "      <td>DA</td>\n",
       "      <td>1</td>\n",
       "    </tr>\n",
       "    <tr>\n",
       "      <th>6</th>\n",
       "      <td>(0008,0013)</td>\n",
       "      <td>Instance Creation Time</td>\n",
       "      <td>Instance​Creation​Time</td>\n",
       "      <td>TM</td>\n",
       "      <td>1</td>\n",
       "    </tr>\n",
       "    <tr>\n",
       "      <th>7</th>\n",
       "      <td>(0008,0014)</td>\n",
       "      <td>Instance Creator UID</td>\n",
       "      <td>Instance​Creator​UID</td>\n",
       "      <td>UI</td>\n",
       "      <td>1</td>\n",
       "    </tr>\n",
       "    <tr>\n",
       "      <th>8</th>\n",
       "      <td>(0008,0015)</td>\n",
       "      <td>Instance Coercion DateTime</td>\n",
       "      <td>Instance​Coercion​Date​Time</td>\n",
       "      <td>DT</td>\n",
       "      <td>1</td>\n",
       "    </tr>\n",
       "    <tr>\n",
       "      <th>9</th>\n",
       "      <td>(0008,0016)</td>\n",
       "      <td>SOP Class UID</td>\n",
       "      <td>SOP​Class​UID</td>\n",
       "      <td>UI</td>\n",
       "      <td>1</td>\n",
       "    </tr>\n",
       "  </tbody>\n",
       "</table>\n",
       "</div>"
      ],
      "text/plain": [
       "           Tag                        Name                      Keyword  VR  \\\n",
       "0  (0008,0001)               Length to End                Length​To​End  UL   \n",
       "1  (0008,0005)      Specific Character Set       Specific​Character​Set  CS   \n",
       "2  (0008,0006)      Language Code Sequence       Language​Code​Sequence  SQ   \n",
       "3  (0008,0008)                  Image Type                   Image​Type  CS   \n",
       "4  (0008,0010)            Recognition Code             Recognition​Code  SH   \n",
       "5  (0008,0012)      Instance Creation Date       Instance​Creation​Date  DA   \n",
       "6  (0008,0013)      Instance Creation Time       Instance​Creation​Time  TM   \n",
       "7  (0008,0014)        Instance Creator UID         Instance​Creator​UID  UI   \n",
       "8  (0008,0015)  Instance Coercion DateTime  Instance​Coercion​Date​Time  DT   \n",
       "9  (0008,0016)               SOP Class UID                SOP​Class​UID  UI   \n",
       "\n",
       "    VM  \n",
       "0    1  \n",
       "1  1-n  \n",
       "2    1  \n",
       "3  2-n  \n",
       "4    1  \n",
       "5    1  \n",
       "6    1  \n",
       "7    1  \n",
       "8    1  \n",
       "9    1  "
      ]
     },
     "execution_count": 185,
     "metadata": {},
     "output_type": "execute_result"
    }
   ],
   "source": [
    "df.head(10)"
   ]
  },
  {
   "cell_type": "code",
   "execution_count": 194,
   "id": "2841fdbd-fd82-4061-bd45-9c7d1031abf3",
   "metadata": {},
   "outputs": [
    {
     "data": {
      "text/plain": [
       "array(['UL', 'CS', 'SQ', 'SH', 'DA', 'TM', 'UI', 'DT', 'US', 'LO', 'AE',\n",
       "       'ST', 'PN', 'LT', 'UR', 'UC', '', 'UT', 'UV', 'OB', 'IS', 'FD',\n",
       "       'DS', 'FL', 'AS', 'AT', 'OB or OW', 'OF', 'SL', 'SS', 'US or SS',\n",
       "       'US or SS or OW', 'OW', 'US or OW', 'OD', 'OL', 'UN', 'OV', 'SV',\n",
       "       'See Note'], dtype=object)"
      ]
     },
     "execution_count": 194,
     "metadata": {},
     "output_type": "execute_result"
    }
   ],
   "source": [
    "df.VR.unique()"
   ]
  },
  {
   "cell_type": "code",
   "execution_count": 195,
   "id": "335762e7-e42d-4dab-a935-b71c05604261",
   "metadata": {},
   "outputs": [
    {
     "data": {
      "text/plain": [
       "VR\n",
       "SQ                1265\n",
       "CS                 799\n",
       "DS                 483\n",
       "US                 379\n",
       "LO                 355\n",
       "FD                 309\n",
       "FL                 292\n",
       "IS                 239\n",
       "SH                 130\n",
       "ST                 101\n",
       "UI                  91\n",
       "UL                  79\n",
       "DT                  62\n",
       "DA                  61\n",
       "LT                  60\n",
       "TM                  55\n",
       "UT                  44\n",
       "PN                  32\n",
       "OB                  30\n",
       "US or SS            25\n",
       "OW                  24\n",
       "AT                  24\n",
       "SS                  18\n",
       "OF                  15\n",
       "SL                  15\n",
       "UR                  13\n",
       "UC                  13\n",
       "OB or OW            11\n",
       "AE                  11\n",
       "OL                   7\n",
       "UV                   6\n",
       "OD                   6\n",
       "OV                   3\n",
       "See Note             3\n",
       "AS                   2\n",
       "US or SS or OW       1\n",
       "                     1\n",
       "US or OW             1\n",
       "UN                   1\n",
       "SV                   1\n",
       "Name: count, dtype: int64"
      ]
     },
     "execution_count": 195,
     "metadata": {},
     "output_type": "execute_result"
    }
   ],
   "source": [
    "df.VR.value_counts()"
   ]
  },
  {
   "cell_type": "code",
   "execution_count": 197,
   "id": "52c5eefe-6e23-4e54-a74f-5d4e83328207",
   "metadata": {},
   "outputs": [
    {
     "data": {
      "text/plain": [
       "VR\n",
       "CS    799\n",
       "DS    483\n",
       "US    379\n",
       "FD    309\n",
       "FL    292\n",
       "IS    239\n",
       "UL     79\n",
       "DT     62\n",
       "DA     61\n",
       "TM     55\n",
       "AT     24\n",
       "SS     18\n",
       "SL     15\n",
       "UV      6\n",
       "SV      1\n",
       "Name: count, dtype: int64"
      ]
     },
     "execution_count": 197,
     "metadata": {},
     "output_type": "execute_result"
    }
   ],
   "source": [
    "# 일부 VR에 대해서만 확인한다면\n",
    "identified_VR = ['AT', 'CS', 'DA', 'DT', 'DS', 'FL', 'FD', 'IS', 'SL', 'SS', 'SV', 'TM', 'UL', 'US', 'UV']\n",
    "df[df['VR'].isin(identified_VR)].VR.value_counts() #CS is values; others are numbers "
   ]
  },
  {
   "cell_type": "markdown",
   "id": "26101d54-6f64-4947-9f6d-00935e91af6e",
   "metadata": {},
   "source": [
    "### (+ JKL, 12/13/2023) DICOM VR의 name, definition 가져오기\n",
    "Table 6.2-1. DICOM Value Representations 가져오면 됨\n",
    "- PS3.5 Data Structures and Encoding 의\n",
    "- (chapter) 6. Value Encoding 에서\n",
    "- 6.2 Value Representation (VR)의 Table"
   ]
  },
  {
   "cell_type": "code",
   "execution_count": 224,
   "id": "f6f97c17-7228-4341-81d9-c24fb209bfb7",
   "metadata": {},
   "outputs": [],
   "source": [
    "# URI for DICOM Standard Part 5\n",
    "xml05_uri = 'https://dicom.nema.org/medical/dicom/current/source/docbook/part05/part05.xml'\n",
    "\n",
    "# Parse the XML content\n",
    "response05 = requests.get(xml05_uri) \n",
    "root05 = ET.fromstring(response05.content) "
   ]
  },
  {
   "cell_type": "code",
   "execution_count": 226,
   "id": "bc1a5f42-32d8-475f-9964-9326a5130412",
   "metadata": {},
   "outputs": [],
   "source": [
    "# for chapter 6. Value Encoding\n",
    "for child in root05:\n",
    "    if child.attrib.get('label') == '6':\n",
    "        VR_node = child\n",
    "        break"
   ]
  },
  {
   "cell_type": "code",
   "execution_count": 227,
   "id": "d55e26fa-9854-490c-a61a-602406a4efa7",
   "metadata": {},
   "outputs": [
    {
     "data": {
      "text/plain": [
       "{'label': '6',\n",
       " 'status': '1',\n",
       " '{http://www.w3.org/XML/1998/namespace}id': 'chapter_6'}"
      ]
     },
     "execution_count": 227,
     "metadata": {},
     "output_type": "execute_result"
    }
   ],
   "source": [
    "VR_node.attrib"
   ]
  },
  {
   "cell_type": "code",
   "execution_count": 229,
   "id": "c813ea71-22ff-4baf-9cb6-f29439275c21",
   "metadata": {},
   "outputs": [
    {
     "data": {
      "text/plain": [
       "[<Element '{http://docbook.org/ns/docbook}table' at 0x7f2f6c5d62f0>,\n",
       " <Element '{http://docbook.org/ns/docbook}table' at 0x7f2f6c5dca40>]"
      ]
     },
     "execution_count": 229,
     "metadata": {},
     "output_type": "execute_result"
    }
   ],
   "source": [
    "VR_node.findall('.//{http://docbook.org/ns/docbook}table')"
   ]
  },
  {
   "cell_type": "code",
   "execution_count": 239,
   "id": "37dea6dd-6be3-4306-86c3-882affadc1f8",
   "metadata": {},
   "outputs": [
    {
     "name": "stdout",
     "output_type": "stream",
     "text": [
      "0\n",
      "DICOM Control Characters and Their Encoding\n",
      "1\n",
      "DICOM Value Representations\n"
     ]
    }
   ],
   "source": [
    "i = 0\n",
    "for table in VR_node.findall('.//{http://docbook.org/ns/docbook}table'):\n",
    "    title = table.find(tag_url + 'caption')\n",
    "    print(i) \n",
    "    print(title.text)\n",
    "    i +=1"
   ]
  },
  {
   "cell_type": "code",
   "execution_count": 240,
   "id": "03ebbdc1-3199-47b3-92ce-7a9a988594fe",
   "metadata": {},
   "outputs": [],
   "source": [
    "VR_table = VR_node.findall('.//{http://docbook.org/ns/docbook}table')[1]"
   ]
  },
  {
   "cell_type": "code",
   "execution_count": null,
   "id": "c8479683-9933-4300-baf5-698b7a1adb35",
   "metadata": {},
   "outputs": [],
   "source": [
    "thead = VR_table.find('.//{http://docbook.org/ns/docbook}thead')\n",
    "tbody = VR_table.find('.//{http://docbook.org/ns/docbook}tbody')"
   ]
  },
  {
   "cell_type": "code",
   "execution_count": 280,
   "id": "7c65bcc5-7b8f-4e25-a157-838311f18d2c",
   "metadata": {},
   "outputs": [],
   "source": [
    "#from collections import defaultdict\n",
    "#import pandas as pd\n",
    "\n",
    "# Store column names\n",
    "column_names = []\n",
    "if thead is not None:\n",
    "    for tr in thead.findall('.//{http://docbook.org/ns/docbook}tr'):\n",
    "        thead_names = tr.findall('.//{http://docbook.org/ns/docbook}emphasis')\n",
    "        if thead_names is not None:\n",
    "            for name in thead_names:\n",
    "                # 수정: 'VR Name'을 'VR'과 'Name'으로 분할하여 저장\n",
    "                if name.text.strip() == 'VR Name':\n",
    "                    column_names.extend(['VR', 'Name'])\n",
    "\n",
    "    # Store row values\n",
    "    rows = tbody.findall('.//{http://docbook.org/ns/docbook}tr')\n",
    "    rows_data = []\n",
    "\n",
    "    # Loop through tbody to extract values\n",
    "    for tr in rows:\n",
    "        row_values = defaultdict(lambda: None)\n",
    "        idx = 0\n",
    "        for para in tr.findall('.//{http://docbook.org/ns/docbook}para'):\n",
    "            emphasis = para.find('.//{http://docbook.org/ns/docbook}emphasis')\n",
    "            if emphasis is not None and emphasis.text is not None:\n",
    "                row_values[column_names[idx]] = emphasis.text.strip()\n",
    "                idx += 1\n",
    "                if idx >= len(column_names):\n",
    "                    break\n",
    "            else:\n",
    "                if para is not None and para.text is not None:\n",
    "                    row_values[column_names[idx]] = para.text.strip()\n",
    "                    idx += 1\n",
    "                    if idx >= len(column_names):\n",
    "                        break\n",
    "                        \n",
    "        rows_data.append(row_values)\n",
    "\n",
    "    # Save the output as a DataFrame\n",
    "    df_vr = pd.DataFrame(rows_data, columns=column_names)\n"
   ]
  },
  {
   "cell_type": "code",
   "execution_count": 281,
   "id": "d6df59a4-d1cc-47f8-acd6-84f25fd4b57c",
   "metadata": {},
   "outputs": [
    {
     "data": {
      "text/html": [
       "<div>\n",
       "<style scoped>\n",
       "    .dataframe tbody tr th:only-of-type {\n",
       "        vertical-align: middle;\n",
       "    }\n",
       "\n",
       "    .dataframe tbody tr th {\n",
       "        vertical-align: top;\n",
       "    }\n",
       "\n",
       "    .dataframe thead th {\n",
       "        text-align: right;\n",
       "    }\n",
       "</style>\n",
       "<table border=\"1\" class=\"dataframe\">\n",
       "  <thead>\n",
       "    <tr style=\"text-align: right;\">\n",
       "      <th></th>\n",
       "      <th>VR</th>\n",
       "      <th>Name</th>\n",
       "    </tr>\n",
       "  </thead>\n",
       "  <tbody>\n",
       "    <tr>\n",
       "      <th>0</th>\n",
       "      <td>AE</td>\n",
       "      <td>Application Entity</td>\n",
       "    </tr>\n",
       "    <tr>\n",
       "      <th>1</th>\n",
       "      <td>AS</td>\n",
       "      <td>Age String</td>\n",
       "    </tr>\n",
       "    <tr>\n",
       "      <th>2</th>\n",
       "      <td>AT</td>\n",
       "      <td>Attribute Tag</td>\n",
       "    </tr>\n",
       "  </tbody>\n",
       "</table>\n",
       "</div>"
      ],
      "text/plain": [
       "   VR                Name\n",
       "0  AE  Application Entity\n",
       "1  AS          Age String\n",
       "2  AT       Attribute Tag"
      ]
     },
     "execution_count": 281,
     "metadata": {},
     "output_type": "execute_result"
    }
   ],
   "source": [
    "df_vr.head(3)"
   ]
  },
  {
   "cell_type": "code",
   "execution_count": 282,
   "id": "f2ed47f2-56e3-4f7c-b7ec-aa09f38fa7e6",
   "metadata": {},
   "outputs": [
    {
     "data": {
      "text/html": [
       "<div>\n",
       "<style scoped>\n",
       "    .dataframe tbody tr th:only-of-type {\n",
       "        vertical-align: middle;\n",
       "    }\n",
       "\n",
       "    .dataframe tbody tr th {\n",
       "        vertical-align: top;\n",
       "    }\n",
       "\n",
       "    .dataframe thead th {\n",
       "        text-align: right;\n",
       "    }\n",
       "</style>\n",
       "<table border=\"1\" class=\"dataframe\">\n",
       "  <thead>\n",
       "    <tr style=\"text-align: right;\">\n",
       "      <th></th>\n",
       "      <th>VR</th>\n",
       "      <th>Name</th>\n",
       "    </tr>\n",
       "  </thead>\n",
       "  <tbody>\n",
       "    <tr>\n",
       "      <th>0</th>\n",
       "      <td>AE</td>\n",
       "      <td>Application Entity</td>\n",
       "    </tr>\n",
       "    <tr>\n",
       "      <th>1</th>\n",
       "      <td>AS</td>\n",
       "      <td>Age String</td>\n",
       "    </tr>\n",
       "    <tr>\n",
       "      <th>2</th>\n",
       "      <td>AT</td>\n",
       "      <td>Attribute Tag</td>\n",
       "    </tr>\n",
       "    <tr>\n",
       "      <th>3</th>\n",
       "      <td>CS</td>\n",
       "      <td>Code String</td>\n",
       "    </tr>\n",
       "    <tr>\n",
       "      <th>4</th>\n",
       "      <td>DA</td>\n",
       "      <td>Date</td>\n",
       "    </tr>\n",
       "    <tr>\n",
       "      <th>5</th>\n",
       "      <td>DS</td>\n",
       "      <td>Decimal String</td>\n",
       "    </tr>\n",
       "    <tr>\n",
       "      <th>6</th>\n",
       "      <td>DT</td>\n",
       "      <td>Date Time</td>\n",
       "    </tr>\n",
       "    <tr>\n",
       "      <th>7</th>\n",
       "      <td>FL</td>\n",
       "      <td>Floating Point Single</td>\n",
       "    </tr>\n",
       "    <tr>\n",
       "      <th>8</th>\n",
       "      <td>FD</td>\n",
       "      <td>Floating Point Double</td>\n",
       "    </tr>\n",
       "    <tr>\n",
       "      <th>9</th>\n",
       "      <td>IS</td>\n",
       "      <td>Integer String</td>\n",
       "    </tr>\n",
       "    <tr>\n",
       "      <th>10</th>\n",
       "      <td>LO</td>\n",
       "      <td>Long String</td>\n",
       "    </tr>\n",
       "    <tr>\n",
       "      <th>11</th>\n",
       "      <td>LT</td>\n",
       "      <td>Long Text</td>\n",
       "    </tr>\n",
       "    <tr>\n",
       "      <th>12</th>\n",
       "      <td>OB</td>\n",
       "      <td>Other Byte</td>\n",
       "    </tr>\n",
       "    <tr>\n",
       "      <th>13</th>\n",
       "      <td>OD</td>\n",
       "      <td>Other Double</td>\n",
       "    </tr>\n",
       "    <tr>\n",
       "      <th>14</th>\n",
       "      <td>OF</td>\n",
       "      <td>Other Float</td>\n",
       "    </tr>\n",
       "    <tr>\n",
       "      <th>15</th>\n",
       "      <td>OL</td>\n",
       "      <td>Other Long</td>\n",
       "    </tr>\n",
       "    <tr>\n",
       "      <th>16</th>\n",
       "      <td>OV</td>\n",
       "      <td>Other 64-bit Very Long</td>\n",
       "    </tr>\n",
       "    <tr>\n",
       "      <th>17</th>\n",
       "      <td>OW</td>\n",
       "      <td>Other Word</td>\n",
       "    </tr>\n",
       "    <tr>\n",
       "      <th>18</th>\n",
       "      <td>PN</td>\n",
       "      <td>Person Name</td>\n",
       "    </tr>\n",
       "    <tr>\n",
       "      <th>19</th>\n",
       "      <td>SH</td>\n",
       "      <td>Short String</td>\n",
       "    </tr>\n",
       "    <tr>\n",
       "      <th>20</th>\n",
       "      <td>SL</td>\n",
       "      <td>Signed Long</td>\n",
       "    </tr>\n",
       "    <tr>\n",
       "      <th>21</th>\n",
       "      <td>SQ</td>\n",
       "      <td>Sequence of Items</td>\n",
       "    </tr>\n",
       "    <tr>\n",
       "      <th>22</th>\n",
       "      <td>SS</td>\n",
       "      <td>Signed Short</td>\n",
       "    </tr>\n",
       "    <tr>\n",
       "      <th>23</th>\n",
       "      <td>ST</td>\n",
       "      <td>Short Text</td>\n",
       "    </tr>\n",
       "    <tr>\n",
       "      <th>24</th>\n",
       "      <td>SV</td>\n",
       "      <td>Signed 64-bit Very Long</td>\n",
       "    </tr>\n",
       "    <tr>\n",
       "      <th>25</th>\n",
       "      <td>TM</td>\n",
       "      <td>Time</td>\n",
       "    </tr>\n",
       "    <tr>\n",
       "      <th>26</th>\n",
       "      <td>UC</td>\n",
       "      <td>Unlimited Characters</td>\n",
       "    </tr>\n",
       "    <tr>\n",
       "      <th>27</th>\n",
       "      <td>UI</td>\n",
       "      <td>Unique Identifier (UID)</td>\n",
       "    </tr>\n",
       "    <tr>\n",
       "      <th>28</th>\n",
       "      <td>UL</td>\n",
       "      <td>Unsigned Long</td>\n",
       "    </tr>\n",
       "    <tr>\n",
       "      <th>29</th>\n",
       "      <td>UN</td>\n",
       "      <td>Unknown</td>\n",
       "    </tr>\n",
       "    <tr>\n",
       "      <th>30</th>\n",
       "      <td>UR</td>\n",
       "      <td>Universal Resource Identifier or Universal Res...</td>\n",
       "    </tr>\n",
       "    <tr>\n",
       "      <th>31</th>\n",
       "      <td>US</td>\n",
       "      <td>Unsigned Short</td>\n",
       "    </tr>\n",
       "    <tr>\n",
       "      <th>32</th>\n",
       "      <td>UT</td>\n",
       "      <td>Unlimited Text</td>\n",
       "    </tr>\n",
       "    <tr>\n",
       "      <th>33</th>\n",
       "      <td>UV</td>\n",
       "      <td>Unsigned 64-bit Very Long</td>\n",
       "    </tr>\n",
       "  </tbody>\n",
       "</table>\n",
       "</div>"
      ],
      "text/plain": [
       "    VR                                               Name\n",
       "0   AE                                 Application Entity\n",
       "1   AS                                         Age String\n",
       "2   AT                                      Attribute Tag\n",
       "3   CS                                        Code String\n",
       "4   DA                                               Date\n",
       "5   DS                                     Decimal String\n",
       "6   DT                                          Date Time\n",
       "7   FL                              Floating Point Single\n",
       "8   FD                              Floating Point Double\n",
       "9   IS                                     Integer String\n",
       "10  LO                                        Long String\n",
       "11  LT                                          Long Text\n",
       "12  OB                                         Other Byte\n",
       "13  OD                                       Other Double\n",
       "14  OF                                        Other Float\n",
       "15  OL                                         Other Long\n",
       "16  OV                             Other 64-bit Very Long\n",
       "17  OW                                         Other Word\n",
       "18  PN                                        Person Name\n",
       "19  SH                                       Short String\n",
       "20  SL                                        Signed Long\n",
       "21  SQ                                  Sequence of Items\n",
       "22  SS                                       Signed Short\n",
       "23  ST                                         Short Text\n",
       "24  SV                            Signed 64-bit Very Long\n",
       "25  TM                                               Time\n",
       "26  UC                               Unlimited Characters\n",
       "27  UI                            Unique Identifier (UID)\n",
       "28  UL                                      Unsigned Long\n",
       "29  UN                                            Unknown\n",
       "30  UR  Universal Resource Identifier or Universal Res...\n",
       "31  US                                     Unsigned Short\n",
       "32  UT                                     Unlimited Text\n",
       "33  UV                          Unsigned 64-bit Very Long"
      ]
     },
     "execution_count": 282,
     "metadata": {},
     "output_type": "execute_result"
    }
   ],
   "source": [
    "df_vr"
   ]
  },
  {
   "cell_type": "markdown",
   "id": "d1084a88-4f5e-4337-8b0b-1e0cf1c207a7",
   "metadata": {},
   "source": [
    "### merge\n",
    "- PS3.6 6-1. Registry of DICOM Data Elements table과\n",
    "- PS3.5 6.2에 명시된 VR의 name을 합쳐보자\n",
    "- 왜냐면 나는 VR 약자가 뭔지 잘 안와닿음"
   ]
  },
  {
   "cell_type": "code",
   "execution_count": 285,
   "id": "794fb395-e8f6-4a4a-a479-c7cb6db550f7",
   "metadata": {},
   "outputs": [
    {
     "name": "stdout",
     "output_type": "stream",
     "text": [
      "5067 34\n"
     ]
    }
   ],
   "source": [
    "print(len(df), len(df_vr))"
   ]
  },
  {
   "cell_type": "code",
   "execution_count": 283,
   "id": "353e6ddd-14f8-4802-88fb-58cae2788f62",
   "metadata": {},
   "outputs": [
    {
     "data": {
      "text/html": [
       "<div>\n",
       "<style scoped>\n",
       "    .dataframe tbody tr th:only-of-type {\n",
       "        vertical-align: middle;\n",
       "    }\n",
       "\n",
       "    .dataframe tbody tr th {\n",
       "        vertical-align: top;\n",
       "    }\n",
       "\n",
       "    .dataframe thead th {\n",
       "        text-align: right;\n",
       "    }\n",
       "</style>\n",
       "<table border=\"1\" class=\"dataframe\">\n",
       "  <thead>\n",
       "    <tr style=\"text-align: right;\">\n",
       "      <th></th>\n",
       "      <th>Tag</th>\n",
       "      <th>Name</th>\n",
       "      <th>Keyword</th>\n",
       "      <th>VR</th>\n",
       "      <th>VM</th>\n",
       "    </tr>\n",
       "  </thead>\n",
       "  <tbody>\n",
       "    <tr>\n",
       "      <th>0</th>\n",
       "      <td>(0008,0001)</td>\n",
       "      <td>Length to End</td>\n",
       "      <td>Length​To​End</td>\n",
       "      <td>UL</td>\n",
       "      <td>1</td>\n",
       "    </tr>\n",
       "    <tr>\n",
       "      <th>1</th>\n",
       "      <td>(0008,0005)</td>\n",
       "      <td>Specific Character Set</td>\n",
       "      <td>Specific​Character​Set</td>\n",
       "      <td>CS</td>\n",
       "      <td>1-n</td>\n",
       "    </tr>\n",
       "    <tr>\n",
       "      <th>2</th>\n",
       "      <td>(0008,0006)</td>\n",
       "      <td>Language Code Sequence</td>\n",
       "      <td>Language​Code​Sequence</td>\n",
       "      <td>SQ</td>\n",
       "      <td>1</td>\n",
       "    </tr>\n",
       "  </tbody>\n",
       "</table>\n",
       "</div>"
      ],
      "text/plain": [
       "           Tag                    Name                 Keyword  VR   VM\n",
       "0  (0008,0001)           Length to End           Length​To​End  UL    1\n",
       "1  (0008,0005)  Specific Character Set  Specific​Character​Set  CS  1-n\n",
       "2  (0008,0006)  Language Code Sequence  Language​Code​Sequence  SQ    1"
      ]
     },
     "execution_count": 283,
     "metadata": {},
     "output_type": "execute_result"
    }
   ],
   "source": [
    "df.head(3)"
   ]
  },
  {
   "cell_type": "code",
   "execution_count": 284,
   "id": "a2fc31d3-d866-4147-98dd-be3d8bb74e03",
   "metadata": {},
   "outputs": [
    {
     "data": {
      "text/html": [
       "<div>\n",
       "<style scoped>\n",
       "    .dataframe tbody tr th:only-of-type {\n",
       "        vertical-align: middle;\n",
       "    }\n",
       "\n",
       "    .dataframe tbody tr th {\n",
       "        vertical-align: top;\n",
       "    }\n",
       "\n",
       "    .dataframe thead th {\n",
       "        text-align: right;\n",
       "    }\n",
       "</style>\n",
       "<table border=\"1\" class=\"dataframe\">\n",
       "  <thead>\n",
       "    <tr style=\"text-align: right;\">\n",
       "      <th></th>\n",
       "      <th>VR</th>\n",
       "      <th>Name</th>\n",
       "    </tr>\n",
       "  </thead>\n",
       "  <tbody>\n",
       "    <tr>\n",
       "      <th>0</th>\n",
       "      <td>AE</td>\n",
       "      <td>Application Entity</td>\n",
       "    </tr>\n",
       "    <tr>\n",
       "      <th>1</th>\n",
       "      <td>AS</td>\n",
       "      <td>Age String</td>\n",
       "    </tr>\n",
       "    <tr>\n",
       "      <th>2</th>\n",
       "      <td>AT</td>\n",
       "      <td>Attribute Tag</td>\n",
       "    </tr>\n",
       "  </tbody>\n",
       "</table>\n",
       "</div>"
      ],
      "text/plain": [
       "   VR                Name\n",
       "0  AE  Application Entity\n",
       "1  AS          Age String\n",
       "2  AT       Attribute Tag"
      ]
     },
     "execution_count": 284,
     "metadata": {},
     "output_type": "execute_result"
    }
   ],
   "source": [
    "df_vr.head(3)"
   ]
  },
  {
   "cell_type": "code",
   "execution_count": 287,
   "id": "0566d158-56b1-478b-9a51-6c4602172d4f",
   "metadata": {},
   "outputs": [],
   "source": [
    "df_vr.rename(columns = {'Name' : 'VR Name'}, inplace = True)"
   ]
  },
  {
   "cell_type": "code",
   "execution_count": 288,
   "id": "33f61b52-7da5-4b46-b2fb-358e28baa9e3",
   "metadata": {},
   "outputs": [
    {
     "data": {
      "text/html": [
       "<div>\n",
       "<style scoped>\n",
       "    .dataframe tbody tr th:only-of-type {\n",
       "        vertical-align: middle;\n",
       "    }\n",
       "\n",
       "    .dataframe tbody tr th {\n",
       "        vertical-align: top;\n",
       "    }\n",
       "\n",
       "    .dataframe thead th {\n",
       "        text-align: right;\n",
       "    }\n",
       "</style>\n",
       "<table border=\"1\" class=\"dataframe\">\n",
       "  <thead>\n",
       "    <tr style=\"text-align: right;\">\n",
       "      <th></th>\n",
       "      <th>Tag</th>\n",
       "      <th>Name</th>\n",
       "      <th>Keyword</th>\n",
       "      <th>VR</th>\n",
       "      <th>VM</th>\n",
       "      <th>VR Name</th>\n",
       "    </tr>\n",
       "  </thead>\n",
       "  <tbody>\n",
       "    <tr>\n",
       "      <th>0</th>\n",
       "      <td>(0008,0001)</td>\n",
       "      <td>Length to End</td>\n",
       "      <td>Length​To​End</td>\n",
       "      <td>UL</td>\n",
       "      <td>1</td>\n",
       "      <td>Unsigned Long</td>\n",
       "    </tr>\n",
       "    <tr>\n",
       "      <th>1</th>\n",
       "      <td>(0008,0005)</td>\n",
       "      <td>Specific Character Set</td>\n",
       "      <td>Specific​Character​Set</td>\n",
       "      <td>CS</td>\n",
       "      <td>1-n</td>\n",
       "      <td>Code String</td>\n",
       "    </tr>\n",
       "    <tr>\n",
       "      <th>2</th>\n",
       "      <td>(0008,0006)</td>\n",
       "      <td>Language Code Sequence</td>\n",
       "      <td>Language​Code​Sequence</td>\n",
       "      <td>SQ</td>\n",
       "      <td>1</td>\n",
       "      <td>Sequence of Items</td>\n",
       "    </tr>\n",
       "    <tr>\n",
       "      <th>3</th>\n",
       "      <td>(0008,0008)</td>\n",
       "      <td>Image Type</td>\n",
       "      <td>Image​Type</td>\n",
       "      <td>CS</td>\n",
       "      <td>2-n</td>\n",
       "      <td>Code String</td>\n",
       "    </tr>\n",
       "    <tr>\n",
       "      <th>4</th>\n",
       "      <td>(0008,0010)</td>\n",
       "      <td>Recognition Code</td>\n",
       "      <td>Recognition​Code</td>\n",
       "      <td>SH</td>\n",
       "      <td>1</td>\n",
       "      <td>Short String</td>\n",
       "    </tr>\n",
       "    <tr>\n",
       "      <th>5</th>\n",
       "      <td>(0008,0012)</td>\n",
       "      <td>Instance Creation Date</td>\n",
       "      <td>Instance​Creation​Date</td>\n",
       "      <td>DA</td>\n",
       "      <td>1</td>\n",
       "      <td>Date</td>\n",
       "    </tr>\n",
       "    <tr>\n",
       "      <th>6</th>\n",
       "      <td>(0008,0013)</td>\n",
       "      <td>Instance Creation Time</td>\n",
       "      <td>Instance​Creation​Time</td>\n",
       "      <td>TM</td>\n",
       "      <td>1</td>\n",
       "      <td>Time</td>\n",
       "    </tr>\n",
       "    <tr>\n",
       "      <th>7</th>\n",
       "      <td>(0008,0014)</td>\n",
       "      <td>Instance Creator UID</td>\n",
       "      <td>Instance​Creator​UID</td>\n",
       "      <td>UI</td>\n",
       "      <td>1</td>\n",
       "      <td>Unique Identifier (UID)</td>\n",
       "    </tr>\n",
       "    <tr>\n",
       "      <th>8</th>\n",
       "      <td>(0008,0015)</td>\n",
       "      <td>Instance Coercion DateTime</td>\n",
       "      <td>Instance​Coercion​Date​Time</td>\n",
       "      <td>DT</td>\n",
       "      <td>1</td>\n",
       "      <td>Date Time</td>\n",
       "    </tr>\n",
       "    <tr>\n",
       "      <th>9</th>\n",
       "      <td>(0008,0016)</td>\n",
       "      <td>SOP Class UID</td>\n",
       "      <td>SOP​Class​UID</td>\n",
       "      <td>UI</td>\n",
       "      <td>1</td>\n",
       "      <td>Unique Identifier (UID)</td>\n",
       "    </tr>\n",
       "  </tbody>\n",
       "</table>\n",
       "</div>"
      ],
      "text/plain": [
       "           Tag                        Name                      Keyword  VR  \\\n",
       "0  (0008,0001)               Length to End                Length​To​End  UL   \n",
       "1  (0008,0005)      Specific Character Set       Specific​Character​Set  CS   \n",
       "2  (0008,0006)      Language Code Sequence       Language​Code​Sequence  SQ   \n",
       "3  (0008,0008)                  Image Type                   Image​Type  CS   \n",
       "4  (0008,0010)            Recognition Code             Recognition​Code  SH   \n",
       "5  (0008,0012)      Instance Creation Date       Instance​Creation​Date  DA   \n",
       "6  (0008,0013)      Instance Creation Time       Instance​Creation​Time  TM   \n",
       "7  (0008,0014)        Instance Creator UID         Instance​Creator​UID  UI   \n",
       "8  (0008,0015)  Instance Coercion DateTime  Instance​Coercion​Date​Time  DT   \n",
       "9  (0008,0016)               SOP Class UID                SOP​Class​UID  UI   \n",
       "\n",
       "    VM                  VR Name  \n",
       "0    1            Unsigned Long  \n",
       "1  1-n              Code String  \n",
       "2    1        Sequence of Items  \n",
       "3  2-n              Code String  \n",
       "4    1             Short String  \n",
       "5    1                     Date  \n",
       "6    1                     Time  \n",
       "7    1  Unique Identifier (UID)  \n",
       "8    1                Date Time  \n",
       "9    1  Unique Identifier (UID)  "
      ]
     },
     "execution_count": 288,
     "metadata": {},
     "output_type": "execute_result"
    }
   ],
   "source": [
    "# merge\n",
    "df_merged = pd.merge(df, df_vr, how='left', on='VR')\n",
    "df_merged.head(10)"
   ]
  },
  {
   "cell_type": "code",
   "execution_count": 294,
   "id": "7b9ba4af-df18-4900-96fd-951c20b0b4e5",
   "metadata": {},
   "outputs": [],
   "source": [
    "df_merged = df_merged.astype(str)"
   ]
  },
  {
   "cell_type": "code",
   "execution_count": 296,
   "id": "4dbf1af8-d84b-4c32-ad23-58a22275ddfb",
   "metadata": {},
   "outputs": [
    {
     "data": {
      "text/html": [
       "<div>\n",
       "<style scoped>\n",
       "    .dataframe tbody tr th:only-of-type {\n",
       "        vertical-align: middle;\n",
       "    }\n",
       "\n",
       "    .dataframe tbody tr th {\n",
       "        vertical-align: top;\n",
       "    }\n",
       "\n",
       "    .dataframe thead th {\n",
       "        text-align: right;\n",
       "    }\n",
       "</style>\n",
       "<table border=\"1\" class=\"dataframe\">\n",
       "  <thead>\n",
       "    <tr style=\"text-align: right;\">\n",
       "      <th></th>\n",
       "      <th>Tag</th>\n",
       "      <th>Name</th>\n",
       "      <th>Keyword</th>\n",
       "      <th>VR</th>\n",
       "      <th>VM</th>\n",
       "      <th>VR Name</th>\n",
       "    </tr>\n",
       "  </thead>\n",
       "  <tbody>\n",
       "    <tr>\n",
       "      <th>0</th>\n",
       "      <td>(0008,0001)</td>\n",
       "      <td>Length to End</td>\n",
       "      <td>Length​To​End</td>\n",
       "      <td>UL</td>\n",
       "      <td>1</td>\n",
       "      <td>Unsigned Long</td>\n",
       "    </tr>\n",
       "    <tr>\n",
       "      <th>1</th>\n",
       "      <td>(0008,0005)</td>\n",
       "      <td>Specific Character Set</td>\n",
       "      <td>Specific​Character​Set</td>\n",
       "      <td>CS</td>\n",
       "      <td>1-n</td>\n",
       "      <td>Code String</td>\n",
       "    </tr>\n",
       "    <tr>\n",
       "      <th>2</th>\n",
       "      <td>(0008,0006)</td>\n",
       "      <td>Language Code Sequence</td>\n",
       "      <td>Language​Code​Sequence</td>\n",
       "      <td>SQ</td>\n",
       "      <td>1</td>\n",
       "      <td>Sequence of Items</td>\n",
       "    </tr>\n",
       "    <tr>\n",
       "      <th>3</th>\n",
       "      <td>(0008,0008)</td>\n",
       "      <td>Image Type</td>\n",
       "      <td>Image​Type</td>\n",
       "      <td>CS</td>\n",
       "      <td>2-n</td>\n",
       "      <td>Code String</td>\n",
       "    </tr>\n",
       "    <tr>\n",
       "      <th>4</th>\n",
       "      <td>(0008,0010)</td>\n",
       "      <td>Recognition Code</td>\n",
       "      <td>Recognition​Code</td>\n",
       "      <td>SH</td>\n",
       "      <td>1</td>\n",
       "      <td>Short String</td>\n",
       "    </tr>\n",
       "    <tr>\n",
       "      <th>...</th>\n",
       "      <td>...</td>\n",
       "      <td>...</td>\n",
       "      <td>...</td>\n",
       "      <td>...</td>\n",
       "      <td>...</td>\n",
       "      <td>...</td>\n",
       "    </tr>\n",
       "    <tr>\n",
       "      <th>5062</th>\n",
       "      <td>(FFFA,FFFA)</td>\n",
       "      <td>Digital Signatures Sequence</td>\n",
       "      <td>Digital​Signatures​Sequence</td>\n",
       "      <td>SQ</td>\n",
       "      <td>1</td>\n",
       "      <td>Sequence of Items</td>\n",
       "    </tr>\n",
       "    <tr>\n",
       "      <th>5063</th>\n",
       "      <td>(FFFC,FFFC)</td>\n",
       "      <td>Data Set Trailing Padding</td>\n",
       "      <td>Data​Set​Trailing​Padding</td>\n",
       "      <td>OB</td>\n",
       "      <td>1</td>\n",
       "      <td>Other Byte</td>\n",
       "    </tr>\n",
       "    <tr>\n",
       "      <th>5064</th>\n",
       "      <td>(FFFE,E000)</td>\n",
       "      <td>Item</td>\n",
       "      <td>Item</td>\n",
       "      <td>See Note</td>\n",
       "      <td>1</td>\n",
       "      <td>nan</td>\n",
       "    </tr>\n",
       "    <tr>\n",
       "      <th>5065</th>\n",
       "      <td>(FFFE,E00D)</td>\n",
       "      <td>Item Delimitation Item</td>\n",
       "      <td>Item​Delimitation​Item</td>\n",
       "      <td>See Note</td>\n",
       "      <td>1</td>\n",
       "      <td>nan</td>\n",
       "    </tr>\n",
       "    <tr>\n",
       "      <th>5066</th>\n",
       "      <td>(FFFE,E0DD)</td>\n",
       "      <td>Sequence Delimitation Item</td>\n",
       "      <td>Sequence​Delimitation​Item</td>\n",
       "      <td>See Note</td>\n",
       "      <td>1</td>\n",
       "      <td>nan</td>\n",
       "    </tr>\n",
       "  </tbody>\n",
       "</table>\n",
       "<p>5067 rows × 6 columns</p>\n",
       "</div>"
      ],
      "text/plain": [
       "              Tag                         Name                      Keyword  \\\n",
       "0     (0008,0001)                Length to End                Length​To​End   \n",
       "1     (0008,0005)       Specific Character Set       Specific​Character​Set   \n",
       "2     (0008,0006)       Language Code Sequence       Language​Code​Sequence   \n",
       "3     (0008,0008)                   Image Type                   Image​Type   \n",
       "4     (0008,0010)             Recognition Code             Recognition​Code   \n",
       "...           ...                          ...                          ...   \n",
       "5062  (FFFA,FFFA)  Digital Signatures Sequence  Digital​Signatures​Sequence   \n",
       "5063  (FFFC,FFFC)    Data Set Trailing Padding    Data​Set​Trailing​Padding   \n",
       "5064  (FFFE,E000)                         Item                         Item   \n",
       "5065  (FFFE,E00D)       Item Delimitation Item       Item​Delimitation​Item   \n",
       "5066  (FFFE,E0DD)   Sequence Delimitation Item   Sequence​Delimitation​Item   \n",
       "\n",
       "            VR   VM            VR Name  \n",
       "0           UL    1      Unsigned Long  \n",
       "1           CS  1-n        Code String  \n",
       "2           SQ    1  Sequence of Items  \n",
       "3           CS  2-n        Code String  \n",
       "4           SH    1       Short String  \n",
       "...        ...  ...                ...  \n",
       "5062        SQ    1  Sequence of Items  \n",
       "5063        OB    1         Other Byte  \n",
       "5064  See Note    1                nan  \n",
       "5065  See Note    1                nan  \n",
       "5066  See Note    1                nan  \n",
       "\n",
       "[5067 rows x 6 columns]"
      ]
     },
     "execution_count": 296,
     "metadata": {},
     "output_type": "execute_result"
    }
   ],
   "source": [
    "df_merged"
   ]
  },
  {
   "cell_type": "code",
   "execution_count": 299,
   "id": "22aa2362-bb20-4125-9a41-46e2236d7c11",
   "metadata": {},
   "outputs": [
    {
     "data": {
      "text/plain": [
       "0       (0008,0001)\n",
       "1       (0008,0005)\n",
       "2       (0008,0006)\n",
       "3       (0008,0008)\n",
       "4       (0008,0010)\n",
       "           ...     \n",
       "5062    (FFFA,FFFA)\n",
       "5063    (FFFC,FFFC)\n",
       "5064    (FFFE,E000)\n",
       "5065    (FFFE,E00D)\n",
       "5066    (FFFE,E0DD)\n",
       "Name: Tag, Length: 5067, dtype: object"
      ]
     },
     "execution_count": 299,
     "metadata": {},
     "output_type": "execute_result"
    }
   ],
   "source": [
    "df_merged['Tag'].astype(str)"
   ]
  },
  {
   "cell_type": "code",
   "execution_count": 290,
   "id": "cffce72e-2416-497d-8fb5-ec219753de8b",
   "metadata": {},
   "outputs": [
    {
     "name": "stdout",
     "output_type": "stream",
     "text": [
      "/home/jklee320/workspace\n"
     ]
    }
   ],
   "source": [
    "import os\n",
    "my_path = os.getcwd()\n",
    "print(my_path)"
   ]
  },
  {
   "cell_type": "code",
   "execution_count": 303,
   "id": "01316799-6b41-4ae6-8ce1-d4bc18fde1b8",
   "metadata": {},
   "outputs": [],
   "source": [
    "# save (csv로 뽑아서 인쇄해두자 ,, DICOM 용어들 아직 안익숙해서) \n",
    "# df_merged.to_csv(my_path + '/DataElementWithVRname_231213.csv', index=False, encoding=\"utf-8-sig\")"
   ]
  },
  {
   "cell_type": "markdown",
   "id": "0ae7bb9b-a937-483f-863a-dfa773948bc4",
   "metadata": {},
   "source": [
    "# Anatomic Modifier\n",
    "### DICOM Standard Part 16: Content Mapping Resource\n",
    "Table CID 2. Anatomic Modifier\n",
    "- [Part 16 - pdf](https://dicom.nema.org/medical/dicom/current/output/pdf/part16.pdf)\n",
    "- 원본은 xml인데 용량이 커서, pdf로 보자"
   ]
  },
  {
   "cell_type": "code",
   "execution_count": 304,
   "id": "91bbd409-d2fc-4dc8-a830-47ea4801c9f8",
   "metadata": {},
   "outputs": [],
   "source": [
    "#import requests\n",
    "#import xml.etree.ElementTree as ET\n",
    "#import pandas as pd\n",
    "\n",
    "def extract_DICOM_Part_16_table_data(xml_url, label):\n",
    "    # Parse the XML content\n",
    "    response = requests.get(xml_url)\n",
    "    root = ET.fromstring(response.content)\n",
    "\n",
    "    # Find the child node with the specified label\n",
    "    selected_node = None\n",
    "    for child in root:\n",
    "        if child.attrib.get('label') == label:\n",
    "            selected_node = child\n",
    "            break\n",
    "\n",
    "    # Get all tables from the selected node\n",
    "    if selected_node is not None:\n",
    "        table_elements = selected_node.findall('.//{http://docbook.org/ns/docbook}table')\n",
    "\n",
    "        # Dictionary to store DataFrames\n",
    "        tables_dict = {}\n",
    "\n",
    "        # Iterate through each table\n",
    "        for index, table_element in enumerate(table_elements):\n",
    "            thead = table_element.find('.//{http://docbook.org/ns/docbook}thead')\n",
    "            tbody = table_element.find('.//{http://docbook.org/ns/docbook}tbody')\n",
    "\n",
    "            # Store column names\n",
    "            column_names = []\n",
    "            if thead is not None:\n",
    "                # Store the column names for the first row\n",
    "                for tr in thead.findall('.//{http://docbook.org/ns/docbook}tr'):\n",
    "                    for idx in range(len(tr)):\n",
    "                        if tr[idx][0].text is not None:\n",
    "                            column_names.append(tr[idx][0].text.strip())\n",
    "\n",
    "            # Store row values\n",
    "            rows_data = []\n",
    "            if tbody is not None:\n",
    "                # Iterate through each row in tbody\n",
    "                for tr in tbody.findall('.//{http://docbook.org/ns/docbook}tr'):\n",
    "                    row_values = {}\n",
    "                    for idx, td in enumerate(tr.findall('.//{http://docbook.org/ns/docbook}td')):\n",
    "                        if idx < len(column_names):\n",
    "                            # Extract values from nested elements, such as links\n",
    "                            value = ' '.join(text.strip() for text in td.itertext())\n",
    "                            if value:\n",
    "                                row_values[column_names[idx]] = value.strip()\n",
    "\n",
    "                    rows_data.append(row_values)\n",
    "\n",
    "            # Save the output as a DataFrame and add to the dictionary\n",
    "            df = pd.DataFrame(rows_data, columns=column_names)\n",
    "            tables_dict[f'df_{index + 1}'] = df\n",
    "\n",
    "        return tables_dict\n",
    "\n",
    "    else:\n",
    "        print(f\"Node with label='{label}' not found.\")\n",
    "        return None"
   ]
  },
  {
   "cell_type": "code",
   "execution_count": 305,
   "id": "b87a7b0f-dcf5-44aa-93f6-0f979be57334",
   "metadata": {},
   "outputs": [],
   "source": [
    "# URI for DICOM Standard Part 16\n",
    "xml_uri = 'https://dicom.nema.org/medical/dicom/current/source/docbook/part16/part16.xml'\n",
    "\n",
    "# Extract tables with label 'B'\n",
    "result_dict = extract_DICOM_Part_16_table_data(xml_uri, 'B')"
   ]
  },
  {
   "cell_type": "code",
   "execution_count": 306,
   "id": "8687cb13-771f-4f7d-8ed1-8e48db8ce455",
   "metadata": {},
   "outputs": [
    {
     "data": {
      "text/html": [
       "<div>\n",
       "<style scoped>\n",
       "    .dataframe tbody tr th:only-of-type {\n",
       "        vertical-align: middle;\n",
       "    }\n",
       "\n",
       "    .dataframe tbody tr th {\n",
       "        vertical-align: top;\n",
       "    }\n",
       "\n",
       "    .dataframe thead th {\n",
       "        text-align: right;\n",
       "    }\n",
       "</style>\n",
       "<table border=\"1\" class=\"dataframe\">\n",
       "  <thead>\n",
       "    <tr style=\"text-align: right;\">\n",
       "      <th></th>\n",
       "      <th>Coding Scheme Designator</th>\n",
       "      <th>Code Value</th>\n",
       "      <th>Code Meaning</th>\n",
       "      <th>SNOMED-RT ID</th>\n",
       "      <th>UMLS Concept Unique ID</th>\n",
       "    </tr>\n",
       "  </thead>\n",
       "  <tbody>\n",
       "    <tr>\n",
       "      <th>0</th>\n",
       "      <td>SCT</td>\n",
       "      <td>24028007</td>\n",
       "      <td>Right</td>\n",
       "      <td>G-A100</td>\n",
       "      <td>C0205090</td>\n",
       "    </tr>\n",
       "    <tr>\n",
       "      <th>1</th>\n",
       "      <td>SCT</td>\n",
       "      <td>7771000</td>\n",
       "      <td>Left</td>\n",
       "      <td>G-A101</td>\n",
       "      <td>C0205091</td>\n",
       "    </tr>\n",
       "    <tr>\n",
       "      <th>2</th>\n",
       "      <td>SCT</td>\n",
       "      <td>51440002</td>\n",
       "      <td>Bilateral</td>\n",
       "      <td>G-A102</td>\n",
       "      <td>C0238767</td>\n",
       "    </tr>\n",
       "    <tr>\n",
       "      <th>3</th>\n",
       "      <td>SCT</td>\n",
       "      <td>66459002</td>\n",
       "      <td>Unilateral</td>\n",
       "      <td>G-A103</td>\n",
       "      <td>C0205092</td>\n",
       "    </tr>\n",
       "    <tr>\n",
       "      <th>4</th>\n",
       "      <td>SCT</td>\n",
       "      <td>49370004</td>\n",
       "      <td>Lateral</td>\n",
       "      <td>G-A104</td>\n",
       "      <td>C0205093</td>\n",
       "    </tr>\n",
       "  </tbody>\n",
       "</table>\n",
       "</div>"
      ],
      "text/plain": [
       "  Coding Scheme Designator Code Value Code Meaning SNOMED-RT ID  \\\n",
       "0                      SCT   24028007        Right       G-A100   \n",
       "1                      SCT    7771000         Left       G-A101   \n",
       "2                      SCT   51440002    Bilateral       G-A102   \n",
       "3                      SCT   66459002   Unilateral       G-A103   \n",
       "4                      SCT   49370004      Lateral       G-A104   \n",
       "\n",
       "  UMLS Concept Unique ID  \n",
       "0               C0205090  \n",
       "1               C0205091  \n",
       "2               C0238767  \n",
       "3               C0205092  \n",
       "4               C0205093  "
      ]
     },
     "execution_count": 306,
     "metadata": {},
     "output_type": "execute_result"
    }
   ],
   "source": [
    "result_dict['df_1'].head(5)"
   ]
  }
 ],
 "metadata": {
  "kernelspec": {
   "display_name": "Python 3 (ipykernel)",
   "language": "python",
   "name": "python3"
  },
  "language_info": {
   "codemirror_mode": {
    "name": "ipython",
    "version": 3
   },
   "file_extension": ".py",
   "mimetype": "text/x-python",
   "name": "python",
   "nbconvert_exporter": "python",
   "pygments_lexer": "ipython3",
   "version": "3.10.12"
  }
 },
 "nbformat": 4,
 "nbformat_minor": 5
}
